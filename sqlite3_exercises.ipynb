{
  "nbformat": 4,
  "nbformat_minor": 0,
  "metadata": {
    "kernelspec": {
      "display_name": "Python 3",
      "language": "python",
      "name": "python3"
    },
    "language_info": {
      "codemirror_mode": {
        "name": "ipython",
        "version": 3
      },
      "file_extension": ".py",
      "mimetype": "text/x-python",
      "name": "python",
      "nbconvert_exporter": "python",
      "pygments_lexer": "ipython3",
      "version": "3.7.9"
    },
    "colab": {
      "name": "sqlite3-exercises-empty.ipynb",
      "provenance": [],
      "collapsed_sections": []
    }
  },
  "cells": [
    {
      "cell_type": "markdown",
      "metadata": {
        "id": "L7OWhvYUqcZt"
      },
      "source": [
        "<img src=\"https://i.imgur.com/JsMvGnP.pngwidth\" height=\"30\">  \n",
        "<p style=\"color: #2e6c80; text-align: center;\"><strong>"
      ]
    },
    {
      "cell_type": "markdown",
      "metadata": {
        "id": "VIoXl5ZfqcZ7"
      },
      "source": [
        "## Exercícios de SQL"
      ]
    },
    {
      "cell_type": "markdown",
      "metadata": {
        "id": "qxHMH2NSqcZ8"
      },
      "source": [
        "Essa série de exercícios tem como objetivo o treino da utilização da biblioteca sqlite3, que permite a utilização da sintaxe de SQL para realizar queries. \\\n",
        "A base de dados utilizada é a [Brazilian E-Commerce Public Dataset by Olist]( https://www.kaggle.com/olistbr/brazilian-ecommerce), disponível publicamente no Kaggle. \\\n",
        "Sugerimos que, na medida do possível, utilize apenas queries em SQL, evitando a utilização de outras bibliotecas que nesta etapa do curso você já pode estar mais familiarizado(a). \\\n",
        "A exceção é a utilização do pandas quando for solicitada a visualização dos dados. \\\n",
        "[Documentação da sqlite3](https://docs.python.org/3/library/sqlite3.html)"
      ]
    },
    {
      "cell_type": "markdown",
      "metadata": {
        "id": "ja6sc5W5qcZ9"
      },
      "source": [
        "Link para a base de dados: https://drive.google.com/file/d/1qfyrOegq9jJXTvSIU2yzsQvOepQCHRte/view?usp=sharing. \\\n",
        "Aconselhamos a baixá-la para trabalhar localmente no Jupyter Notebook. Recomendamos também salvá-la na mesma pasta em que se encontra o arquivo do Jupyter."
      ]
    },
    {
      "cell_type": "markdown",
      "metadata": {
        "id": "PuQiPpf2qcZ-"
      },
      "source": [
        "### Esquema \n",
        "\n",
        "<img src=\"https://i.imgur.com/Be6l4EO.png\" alt=\"Kitten\"\n",
        "\ttitle=\"A cute kitten\" width=\"600\" />\n",
        "    \n",
        "Fonte: https://www.kaggle.com/olistbr/brazilian-ecommerce"
      ]
    },
    {
      "cell_type": "markdown",
      "metadata": {
        "id": "DSgM8hhaqcZ-"
      },
      "source": [
        "**Como funcionarão os exercícios?** \\\n",
        "Os primeiros exercícios terão parte do código completo. Você precisará encontrar a inscrição **...** e substituí-la por um código que realize a ação indicada. \\\n",
        "Exemplo: \\\n",
        "**0 - Importe a biblioteca numpy como np:** \\\n",
        "Seu código estará assim: \\\n",
        "```import ... as np``` \\\n",
        "Você deve deixá-lo assim: \\\n",
        "```import numpy as np``` \n",
        "\n",
        "\n",
        "A partir de um certo ponto, o código estará em branco, fazendo com que você necessite escrevê-lo integralmente."
      ]
    },
    {
      "cell_type": "markdown",
      "metadata": {
        "id": "Vt7Pga9DqcZ-"
      },
      "source": [
        "### 1 - Importe a biblioteca necessária para realizar as queries em SQL, importe também o pandas para visualização dos dados."
      ]
    },
    {
      "cell_type": "code",
      "metadata": {
        "id": "squyk6y1qcZ_"
      },
      "source": [
        "import sqlite3 as lite\n",
        "import pandas as pd"
      ],
      "execution_count": 1,
      "outputs": []
    },
    {
      "cell_type": "markdown",
      "metadata": {
        "id": "SjrmFaZVqcaA"
      },
      "source": [
        "### 2 - Realize a conexão com a base de dados 'olist_ecommerce.db' que se encontra na mesma pasta deste Notebook.\n",
        "Nomeie essa variável como **conn**, pois vai ser utilzada com essa nomenclatura na célula abaixo."
      ]
    },
    {
      "cell_type": "code",
      "metadata": {
        "id": "A_rkQoxLqcaA"
      },
      "source": [
        "conn = lite.connect('olist_ecommerce_antiga.db')"
      ],
      "execution_count": 18,
      "outputs": []
    },
    {
      "cell_type": "markdown",
      "metadata": {
        "id": "x0ezNLhKqcaA"
      },
      "source": [
        "Criamos a função auxiliar abaixo que permitirá que você se preocupe apenas com a sintaxe de SQL, uma vez que o código em Python já está resolvido. \\\n",
        "Para utilizá-la, basta inserir o código como um argumento da função \\\n",
        "Ex:```consulta('SEU CODIGO EM SQL')```"
      ]
    },
    {
      "cell_type": "code",
      "metadata": {
        "id": "rhjEIX4GqcaB"
      },
      "source": [
        "def consulta(query):\n",
        "    cursor = conn.cursor()\n",
        "    consult = cursor.execute(query)\n",
        "    results = consult.fetchall()\n",
        "    cols = [column[0] for column in consult.description]\n",
        "    df = pd.DataFrame(results,columns=cols)\n",
        "    cursor.close()\n",
        "    return df"
      ],
      "execution_count": 11,
      "outputs": []
    },
    {
      "cell_type": "markdown",
      "metadata": {
        "id": "0_P6SEffqcaB"
      },
      "source": [
        "**Importante**: como é possível observar no código acima, a função já retorna os resultados da consulta como um DataFrame do pandas. Além disso, o código abaixo restringe a exibição a apenas 7 linhas para os DataFrames criados. Tal restrição é meramente estética e você pode alterá-la caso queira exibir mais linhas."
      ]
    },
    {
      "cell_type": "code",
      "metadata": {
        "id": "MoVnpSRjqcaB"
      },
      "source": [
        "pd.set_option(\"display.max_rows\",7)"
      ],
      "execution_count": 12,
      "outputs": []
    },
    {
      "cell_type": "markdown",
      "metadata": {
        "id": "HoUTQaoQqcaC"
      },
      "source": [
        "### 3 - Imprima na tela o nomes de todas as tabelas contidas na base de dados."
      ]
    },
    {
      "cell_type": "code",
      "metadata": {
        "id": "LlkLz5ltqcaC",
        "colab": {
          "base_uri": "https://localhost:8080/",
          "height": 298
        },
        "outputId": "47793e1d-0cdc-44ee-b3da-0dd92f7709c6"
      },
      "source": [
        "consulta('''SELECT name FROM sqlite_master WHERE type='table';''')"
      ],
      "execution_count": 19,
      "outputs": [
        {
          "output_type": "execute_result",
          "data": {
            "text/html": [
              "<div>\n",
              "<style scoped>\n",
              "    .dataframe tbody tr th:only-of-type {\n",
              "        vertical-align: middle;\n",
              "    }\n",
              "\n",
              "    .dataframe tbody tr th {\n",
              "        vertical-align: top;\n",
              "    }\n",
              "\n",
              "    .dataframe thead th {\n",
              "        text-align: right;\n",
              "    }\n",
              "</style>\n",
              "<table border=\"1\" class=\"dataframe\">\n",
              "  <thead>\n",
              "    <tr style=\"text-align: right;\">\n",
              "      <th></th>\n",
              "      <th>name</th>\n",
              "    </tr>\n",
              "  </thead>\n",
              "  <tbody>\n",
              "    <tr>\n",
              "      <th>0</th>\n",
              "      <td>olist_customers_dataset</td>\n",
              "    </tr>\n",
              "    <tr>\n",
              "      <th>1</th>\n",
              "      <td>olist_geolocation_dataset</td>\n",
              "    </tr>\n",
              "    <tr>\n",
              "      <th>2</th>\n",
              "      <td>olist_order_items_dataset</td>\n",
              "    </tr>\n",
              "    <tr>\n",
              "      <th>...</th>\n",
              "      <td>...</td>\n",
              "    </tr>\n",
              "    <tr>\n",
              "      <th>5</th>\n",
              "      <td>olist_orders_dataset</td>\n",
              "    </tr>\n",
              "    <tr>\n",
              "      <th>6</th>\n",
              "      <td>olist_products_dataset</td>\n",
              "    </tr>\n",
              "    <tr>\n",
              "      <th>7</th>\n",
              "      <td>product_category_name_translation</td>\n",
              "    </tr>\n",
              "  </tbody>\n",
              "</table>\n",
              "<p>8 rows × 1 columns</p>\n",
              "</div>"
            ],
            "text/plain": [
              "                                 name\n",
              "0             olist_customers_dataset\n",
              "1           olist_geolocation_dataset\n",
              "2           olist_order_items_dataset\n",
              "..                                ...\n",
              "5                olist_orders_dataset\n",
              "6              olist_products_dataset\n",
              "7   product_category_name_translation\n",
              "\n",
              "[8 rows x 1 columns]"
            ]
          },
          "metadata": {},
          "execution_count": 19
        }
      ]
    },
    {
      "cell_type": "markdown",
      "metadata": {
        "id": "zy54_H92qcaD"
      },
      "source": [
        "### 4 - Descubra informações da tabela 'olist_orders_dataset' como os nomes das colunas, os tipos de dados em cada uma delas, etc."
      ]
    },
    {
      "cell_type": "code",
      "metadata": {
        "id": "OQZ9Ip7qqcaE",
        "colab": {
          "base_uri": "https://localhost:8080/",
          "height": 298
        },
        "outputId": "d327ed2e-d4e3-4ffb-eb0a-74872db8ca98"
      },
      "source": [
        "consulta('pragma table_info(olist_orders_dataset)')"
      ],
      "execution_count": 20,
      "outputs": [
        {
          "output_type": "execute_result",
          "data": {
            "text/html": [
              "<div>\n",
              "<style scoped>\n",
              "    .dataframe tbody tr th:only-of-type {\n",
              "        vertical-align: middle;\n",
              "    }\n",
              "\n",
              "    .dataframe tbody tr th {\n",
              "        vertical-align: top;\n",
              "    }\n",
              "\n",
              "    .dataframe thead th {\n",
              "        text-align: right;\n",
              "    }\n",
              "</style>\n",
              "<table border=\"1\" class=\"dataframe\">\n",
              "  <thead>\n",
              "    <tr style=\"text-align: right;\">\n",
              "      <th></th>\n",
              "      <th>cid</th>\n",
              "      <th>name</th>\n",
              "      <th>type</th>\n",
              "      <th>notnull</th>\n",
              "      <th>dflt_value</th>\n",
              "      <th>pk</th>\n",
              "    </tr>\n",
              "  </thead>\n",
              "  <tbody>\n",
              "    <tr>\n",
              "      <th>0</th>\n",
              "      <td>0</td>\n",
              "      <td>order_id</td>\n",
              "      <td>TEXT</td>\n",
              "      <td>0</td>\n",
              "      <td>None</td>\n",
              "      <td>0</td>\n",
              "    </tr>\n",
              "    <tr>\n",
              "      <th>1</th>\n",
              "      <td>1</td>\n",
              "      <td>customer_id</td>\n",
              "      <td>TEXT</td>\n",
              "      <td>0</td>\n",
              "      <td>None</td>\n",
              "      <td>0</td>\n",
              "    </tr>\n",
              "    <tr>\n",
              "      <th>2</th>\n",
              "      <td>2</td>\n",
              "      <td>order_status</td>\n",
              "      <td>TEXT</td>\n",
              "      <td>0</td>\n",
              "      <td>None</td>\n",
              "      <td>0</td>\n",
              "    </tr>\n",
              "    <tr>\n",
              "      <th>...</th>\n",
              "      <td>...</td>\n",
              "      <td>...</td>\n",
              "      <td>...</td>\n",
              "      <td>...</td>\n",
              "      <td>...</td>\n",
              "      <td>...</td>\n",
              "    </tr>\n",
              "    <tr>\n",
              "      <th>5</th>\n",
              "      <td>5</td>\n",
              "      <td>order_delivered_carrier_date</td>\n",
              "      <td>TEXT</td>\n",
              "      <td>0</td>\n",
              "      <td>None</td>\n",
              "      <td>0</td>\n",
              "    </tr>\n",
              "    <tr>\n",
              "      <th>6</th>\n",
              "      <td>6</td>\n",
              "      <td>order_delivered_customer_date</td>\n",
              "      <td>TEXT</td>\n",
              "      <td>0</td>\n",
              "      <td>None</td>\n",
              "      <td>0</td>\n",
              "    </tr>\n",
              "    <tr>\n",
              "      <th>7</th>\n",
              "      <td>7</td>\n",
              "      <td>order_estimated_delivery_date</td>\n",
              "      <td>TEXT</td>\n",
              "      <td>0</td>\n",
              "      <td>None</td>\n",
              "      <td>0</td>\n",
              "    </tr>\n",
              "  </tbody>\n",
              "</table>\n",
              "<p>8 rows × 6 columns</p>\n",
              "</div>"
            ],
            "text/plain": [
              "    cid                           name  type  notnull dflt_value  pk\n",
              "0     0                       order_id  TEXT        0       None   0\n",
              "1     1                    customer_id  TEXT        0       None   0\n",
              "2     2                   order_status  TEXT        0       None   0\n",
              "..  ...                            ...   ...      ...        ...  ..\n",
              "5     5   order_delivered_carrier_date  TEXT        0       None   0\n",
              "6     6  order_delivered_customer_date  TEXT        0       None   0\n",
              "7     7  order_estimated_delivery_date  TEXT        0       None   0\n",
              "\n",
              "[8 rows x 6 columns]"
            ]
          },
          "metadata": {},
          "execution_count": 20
        }
      ]
    },
    {
      "cell_type": "markdown",
      "metadata": {
        "id": "L8iHoq54qcaE"
      },
      "source": [
        "### 5 - Selecione todos os dados da tabela 'olist_order_reviews_dataset'"
      ]
    },
    {
      "cell_type": "code",
      "metadata": {
        "scrolled": true,
        "id": "mNvgNgIpqcaE",
        "colab": {
          "base_uri": "https://localhost:8080/",
          "height": 353
        },
        "outputId": "734537fa-fee5-46d5-c155-e40318f6b3a5"
      },
      "source": [
        "consulta('SELECT * FROM olist_order_reviews_dataset')"
      ],
      "execution_count": 21,
      "outputs": [
        {
          "output_type": "execute_result",
          "data": {
            "text/html": [
              "<div>\n",
              "<style scoped>\n",
              "    .dataframe tbody tr th:only-of-type {\n",
              "        vertical-align: middle;\n",
              "    }\n",
              "\n",
              "    .dataframe tbody tr th {\n",
              "        vertical-align: top;\n",
              "    }\n",
              "\n",
              "    .dataframe thead th {\n",
              "        text-align: right;\n",
              "    }\n",
              "</style>\n",
              "<table border=\"1\" class=\"dataframe\">\n",
              "  <thead>\n",
              "    <tr style=\"text-align: right;\">\n",
              "      <th></th>\n",
              "      <th>review_id</th>\n",
              "      <th>order_id</th>\n",
              "      <th>review_score</th>\n",
              "      <th>review_comment_title</th>\n",
              "      <th>review_comment_message</th>\n",
              "      <th>review_creation_date</th>\n",
              "      <th>review_answer_timestamp</th>\n",
              "    </tr>\n",
              "  </thead>\n",
              "  <tbody>\n",
              "    <tr>\n",
              "      <th>0</th>\n",
              "      <td>7bc2406110b926393aa56f80a40eba40</td>\n",
              "      <td>73fc7af87114b39712e6da79b0a377eb</td>\n",
              "      <td>4</td>\n",
              "      <td>None</td>\n",
              "      <td>None</td>\n",
              "      <td>2018-01-18 00:00:00</td>\n",
              "      <td>2018-01-18 21:46:59</td>\n",
              "    </tr>\n",
              "    <tr>\n",
              "      <th>1</th>\n",
              "      <td>80e641a11e56f04c1ad469d5645fdfde</td>\n",
              "      <td>a548910a1c6147796b98fdf73dbeba33</td>\n",
              "      <td>5</td>\n",
              "      <td>None</td>\n",
              "      <td>None</td>\n",
              "      <td>2018-03-10 00:00:00</td>\n",
              "      <td>2018-03-11 03:05:13</td>\n",
              "    </tr>\n",
              "    <tr>\n",
              "      <th>2</th>\n",
              "      <td>228ce5500dc1d8e020d8d1322874b6f0</td>\n",
              "      <td>f9e4b658b201a9f2ecdecbb34bed034b</td>\n",
              "      <td>5</td>\n",
              "      <td>None</td>\n",
              "      <td>None</td>\n",
              "      <td>2018-02-17 00:00:00</td>\n",
              "      <td>2018-02-18 14:36:24</td>\n",
              "    </tr>\n",
              "    <tr>\n",
              "      <th>...</th>\n",
              "      <td>...</td>\n",
              "      <td>...</td>\n",
              "      <td>...</td>\n",
              "      <td>...</td>\n",
              "      <td>...</td>\n",
              "      <td>...</td>\n",
              "      <td>...</td>\n",
              "    </tr>\n",
              "    <tr>\n",
              "      <th>99997</th>\n",
              "      <td>1adeb9d84d72fe4e337617733eb85149</td>\n",
              "      <td>7725825d039fc1f0ceb7635e3f7d9206</td>\n",
              "      <td>4</td>\n",
              "      <td>None</td>\n",
              "      <td>None</td>\n",
              "      <td>2018-07-01 00:00:00</td>\n",
              "      <td>2018-07-02 12:59:13</td>\n",
              "    </tr>\n",
              "    <tr>\n",
              "      <th>99998</th>\n",
              "      <td>be360f18f5df1e0541061c87021e6d93</td>\n",
              "      <td>f8bd3f2000c28c5342fedeb5e50f2e75</td>\n",
              "      <td>1</td>\n",
              "      <td>None</td>\n",
              "      <td>Solicitei a compra de uma capa de retrovisor c...</td>\n",
              "      <td>2017-12-15 00:00:00</td>\n",
              "      <td>2017-12-16 01:29:43</td>\n",
              "    </tr>\n",
              "    <tr>\n",
              "      <th>99999</th>\n",
              "      <td>efe49f1d6f951dd88b51e6ccd4cc548f</td>\n",
              "      <td>90531360ecb1eec2a1fbb265a0db0508</td>\n",
              "      <td>1</td>\n",
              "      <td>None</td>\n",
              "      <td>meu produto chegou e ja tenho que devolver, po...</td>\n",
              "      <td>2017-07-03 00:00:00</td>\n",
              "      <td>2017-07-03 21:01:49</td>\n",
              "    </tr>\n",
              "  </tbody>\n",
              "</table>\n",
              "<p>100000 rows × 7 columns</p>\n",
              "</div>"
            ],
            "text/plain": [
              "                              review_id  ... review_answer_timestamp\n",
              "0      7bc2406110b926393aa56f80a40eba40  ...     2018-01-18 21:46:59\n",
              "1      80e641a11e56f04c1ad469d5645fdfde  ...     2018-03-11 03:05:13\n",
              "2      228ce5500dc1d8e020d8d1322874b6f0  ...     2018-02-18 14:36:24\n",
              "...                                 ...  ...                     ...\n",
              "99997  1adeb9d84d72fe4e337617733eb85149  ...     2018-07-02 12:59:13\n",
              "99998  be360f18f5df1e0541061c87021e6d93  ...     2017-12-16 01:29:43\n",
              "99999  efe49f1d6f951dd88b51e6ccd4cc548f  ...     2017-07-03 21:01:49\n",
              "\n",
              "[100000 rows x 7 columns]"
            ]
          },
          "metadata": {},
          "execution_count": 21
        }
      ]
    },
    {
      "cell_type": "markdown",
      "metadata": {
        "id": "NYViWp2hqcaF"
      },
      "source": [
        "### 6 - Selecione todos os dados da tabela 'olist_order_reviews_dataset' que tenham o score igual a 5"
      ]
    },
    {
      "cell_type": "code",
      "metadata": {
        "id": "Foxd_HhGqcaG",
        "colab": {
          "base_uri": "https://localhost:8080/",
          "height": 353
        },
        "outputId": "4eafbda7-8fae-48aa-fc48-fc16d4dad3f9"
      },
      "source": [
        "consulta('''SELECT  * \n",
        "            from olist_order_reviews_dataset\n",
        "            where review_score=5 \n",
        "            ''')"
      ],
      "execution_count": 22,
      "outputs": [
        {
          "output_type": "execute_result",
          "data": {
            "text/html": [
              "<div>\n",
              "<style scoped>\n",
              "    .dataframe tbody tr th:only-of-type {\n",
              "        vertical-align: middle;\n",
              "    }\n",
              "\n",
              "    .dataframe tbody tr th {\n",
              "        vertical-align: top;\n",
              "    }\n",
              "\n",
              "    .dataframe thead th {\n",
              "        text-align: right;\n",
              "    }\n",
              "</style>\n",
              "<table border=\"1\" class=\"dataframe\">\n",
              "  <thead>\n",
              "    <tr style=\"text-align: right;\">\n",
              "      <th></th>\n",
              "      <th>review_id</th>\n",
              "      <th>order_id</th>\n",
              "      <th>review_score</th>\n",
              "      <th>review_comment_title</th>\n",
              "      <th>review_comment_message</th>\n",
              "      <th>review_creation_date</th>\n",
              "      <th>review_answer_timestamp</th>\n",
              "    </tr>\n",
              "  </thead>\n",
              "  <tbody>\n",
              "    <tr>\n",
              "      <th>0</th>\n",
              "      <td>80e641a11e56f04c1ad469d5645fdfde</td>\n",
              "      <td>a548910a1c6147796b98fdf73dbeba33</td>\n",
              "      <td>5</td>\n",
              "      <td>None</td>\n",
              "      <td>None</td>\n",
              "      <td>2018-03-10 00:00:00</td>\n",
              "      <td>2018-03-11 03:05:13</td>\n",
              "    </tr>\n",
              "    <tr>\n",
              "      <th>1</th>\n",
              "      <td>228ce5500dc1d8e020d8d1322874b6f0</td>\n",
              "      <td>f9e4b658b201a9f2ecdecbb34bed034b</td>\n",
              "      <td>5</td>\n",
              "      <td>None</td>\n",
              "      <td>None</td>\n",
              "      <td>2018-02-17 00:00:00</td>\n",
              "      <td>2018-02-18 14:36:24</td>\n",
              "    </tr>\n",
              "    <tr>\n",
              "      <th>2</th>\n",
              "      <td>e64fb393e7b32834bb789ff8bb30750e</td>\n",
              "      <td>658677c97b385a9be170737859d3511b</td>\n",
              "      <td>5</td>\n",
              "      <td>None</td>\n",
              "      <td>Recebi bem antes do prazo estipulado.</td>\n",
              "      <td>2017-04-21 00:00:00</td>\n",
              "      <td>2017-04-21 22:02:06</td>\n",
              "    </tr>\n",
              "    <tr>\n",
              "      <th>...</th>\n",
              "      <td>...</td>\n",
              "      <td>...</td>\n",
              "      <td>...</td>\n",
              "      <td>...</td>\n",
              "      <td>...</td>\n",
              "      <td>...</td>\n",
              "      <td>...</td>\n",
              "    </tr>\n",
              "    <tr>\n",
              "      <th>57417</th>\n",
              "      <td>574ed12dd733e5fa530cfd4bbf39d7c9</td>\n",
              "      <td>2a8c23fee101d4d5662fa670396eb8da</td>\n",
              "      <td>5</td>\n",
              "      <td>None</td>\n",
              "      <td>None</td>\n",
              "      <td>2018-07-07 00:00:00</td>\n",
              "      <td>2018-07-14 17:18:30</td>\n",
              "    </tr>\n",
              "    <tr>\n",
              "      <th>57418</th>\n",
              "      <td>f3897127253a9592a73be9bdfdf4ed7a</td>\n",
              "      <td>22ec9f0669f784db00fa86d035cf8602</td>\n",
              "      <td>5</td>\n",
              "      <td>None</td>\n",
              "      <td>None</td>\n",
              "      <td>2017-12-09 00:00:00</td>\n",
              "      <td>2017-12-11 20:06:42</td>\n",
              "    </tr>\n",
              "    <tr>\n",
              "      <th>57419</th>\n",
              "      <td>b3de70c89b1510c4cd3d0649fd302472</td>\n",
              "      <td>55d4004744368f5571d1f590031933e4</td>\n",
              "      <td>5</td>\n",
              "      <td>None</td>\n",
              "      <td>Excelente mochila, entrega super rápida. Super...</td>\n",
              "      <td>2018-03-22 00:00:00</td>\n",
              "      <td>2018-03-23 09:10:43</td>\n",
              "    </tr>\n",
              "  </tbody>\n",
              "</table>\n",
              "<p>57420 rows × 7 columns</p>\n",
              "</div>"
            ],
            "text/plain": [
              "                              review_id  ... review_answer_timestamp\n",
              "0      80e641a11e56f04c1ad469d5645fdfde  ...     2018-03-11 03:05:13\n",
              "1      228ce5500dc1d8e020d8d1322874b6f0  ...     2018-02-18 14:36:24\n",
              "2      e64fb393e7b32834bb789ff8bb30750e  ...     2017-04-21 22:02:06\n",
              "...                                 ...  ...                     ...\n",
              "57417  574ed12dd733e5fa530cfd4bbf39d7c9  ...     2018-07-14 17:18:30\n",
              "57418  f3897127253a9592a73be9bdfdf4ed7a  ...     2017-12-11 20:06:42\n",
              "57419  b3de70c89b1510c4cd3d0649fd302472  ...     2018-03-23 09:10:43\n",
              "\n",
              "[57420 rows x 7 columns]"
            ]
          },
          "metadata": {},
          "execution_count": 22
        }
      ]
    },
    {
      "cell_type": "markdown",
      "metadata": {
        "id": "EjOVwkA2qcaH"
      },
      "source": [
        "### 7 - Selecione todos os pagamentos da 'olist_order_payments_dataset' que foram realizados com cartão de crédito e possuem um valor acima de R$500."
      ]
    },
    {
      "cell_type": "code",
      "metadata": {
        "id": "Mh8l5HoLqcaH",
        "colab": {
          "base_uri": "https://localhost:8080/",
          "height": 298
        },
        "outputId": "da1c2dba-6258-4f81-fb6d-55ec9e0dc077"
      },
      "source": [
        "consulta('''SELECT * from olist_order_payments_dataset \n",
        "             WHERE payment_value >500 \n",
        "             and payment_type = \"credit_card\"''')"
      ],
      "execution_count": 23,
      "outputs": [
        {
          "output_type": "execute_result",
          "data": {
            "text/html": [
              "<div>\n",
              "<style scoped>\n",
              "    .dataframe tbody tr th:only-of-type {\n",
              "        vertical-align: middle;\n",
              "    }\n",
              "\n",
              "    .dataframe tbody tr th {\n",
              "        vertical-align: top;\n",
              "    }\n",
              "\n",
              "    .dataframe thead th {\n",
              "        text-align: right;\n",
              "    }\n",
              "</style>\n",
              "<table border=\"1\" class=\"dataframe\">\n",
              "  <thead>\n",
              "    <tr style=\"text-align: right;\">\n",
              "      <th></th>\n",
              "      <th>order_id</th>\n",
              "      <th>payment_sequential</th>\n",
              "      <th>payment_type</th>\n",
              "      <th>payment_installments</th>\n",
              "      <th>payment_value</th>\n",
              "    </tr>\n",
              "  </thead>\n",
              "  <tbody>\n",
              "    <tr>\n",
              "      <th>0</th>\n",
              "      <td>d0a945f85ba1074b60aac97ade7e240e</td>\n",
              "      <td>1</td>\n",
              "      <td>credit_card</td>\n",
              "      <td>2</td>\n",
              "      <td>541.00</td>\n",
              "    </tr>\n",
              "    <tr>\n",
              "      <th>1</th>\n",
              "      <td>2e2c60b99754ae1e4d8b18846cfec9f2</td>\n",
              "      <td>1</td>\n",
              "      <td>credit_card</td>\n",
              "      <td>4</td>\n",
              "      <td>542.66</td>\n",
              "    </tr>\n",
              "    <tr>\n",
              "      <th>2</th>\n",
              "      <td>110d9355d6338eab0a65a0cacdde5434</td>\n",
              "      <td>1</td>\n",
              "      <td>credit_card</td>\n",
              "      <td>5</td>\n",
              "      <td>566.40</td>\n",
              "    </tr>\n",
              "    <tr>\n",
              "      <th>...</th>\n",
              "      <td>...</td>\n",
              "      <td>...</td>\n",
              "      <td>...</td>\n",
              "      <td>...</td>\n",
              "      <td>...</td>\n",
              "    </tr>\n",
              "    <tr>\n",
              "      <th>3485</th>\n",
              "      <td>4198c92e06d92792e49f119f659e723e</td>\n",
              "      <td>1</td>\n",
              "      <td>credit_card</td>\n",
              "      <td>10</td>\n",
              "      <td>1294.26</td>\n",
              "    </tr>\n",
              "    <tr>\n",
              "      <th>3486</th>\n",
              "      <td>0f121110b75ef7c38c79d67833c49830</td>\n",
              "      <td>1</td>\n",
              "      <td>credit_card</td>\n",
              "      <td>10</td>\n",
              "      <td>956.86</td>\n",
              "    </tr>\n",
              "    <tr>\n",
              "      <th>3487</th>\n",
              "      <td>df8ab61cb615d551483618533aceb364</td>\n",
              "      <td>1</td>\n",
              "      <td>credit_card</td>\n",
              "      <td>10</td>\n",
              "      <td>713.65</td>\n",
              "    </tr>\n",
              "  </tbody>\n",
              "</table>\n",
              "<p>3488 rows × 5 columns</p>\n",
              "</div>"
            ],
            "text/plain": [
              "                              order_id  ...  payment_value\n",
              "0     d0a945f85ba1074b60aac97ade7e240e  ...         541.00\n",
              "1     2e2c60b99754ae1e4d8b18846cfec9f2  ...         542.66\n",
              "2     110d9355d6338eab0a65a0cacdde5434  ...         566.40\n",
              "...                                ...  ...            ...\n",
              "3485  4198c92e06d92792e49f119f659e723e  ...        1294.26\n",
              "3486  0f121110b75ef7c38c79d67833c49830  ...         956.86\n",
              "3487  df8ab61cb615d551483618533aceb364  ...         713.65\n",
              "\n",
              "[3488 rows x 5 columns]"
            ]
          },
          "metadata": {},
          "execution_count": 23
        }
      ]
    },
    {
      "cell_type": "markdown",
      "metadata": {
        "id": "NRKUv-K_qcaI"
      },
      "source": [
        "### 8 - Selecione os 5 valores mais altos transacionados por cartão de crédito da 'olist_order_payments_dataset' e oredene-os de forma decrescente."
      ]
    },
    {
      "cell_type": "code",
      "metadata": {
        "id": "ejD8gOzdqcaI",
        "colab": {
          "base_uri": "https://localhost:8080/",
          "height": 206
        },
        "outputId": "bf44bb01-1244-4f35-d662-a1dbbdb3654b"
      },
      "source": [
        "consulta('''SELECT * from olist_order_payments_dataset \n",
        "            WHERE payment_type = \"credit_card\"\n",
        "            ORDER BY payment_value DESC\n",
        "            LIMIT 5''')"
      ],
      "execution_count": 24,
      "outputs": [
        {
          "output_type": "execute_result",
          "data": {
            "text/html": [
              "<div>\n",
              "<style scoped>\n",
              "    .dataframe tbody tr th:only-of-type {\n",
              "        vertical-align: middle;\n",
              "    }\n",
              "\n",
              "    .dataframe tbody tr th {\n",
              "        vertical-align: top;\n",
              "    }\n",
              "\n",
              "    .dataframe thead th {\n",
              "        text-align: right;\n",
              "    }\n",
              "</style>\n",
              "<table border=\"1\" class=\"dataframe\">\n",
              "  <thead>\n",
              "    <tr style=\"text-align: right;\">\n",
              "      <th></th>\n",
              "      <th>order_id</th>\n",
              "      <th>payment_sequential</th>\n",
              "      <th>payment_type</th>\n",
              "      <th>payment_installments</th>\n",
              "      <th>payment_value</th>\n",
              "    </tr>\n",
              "  </thead>\n",
              "  <tbody>\n",
              "    <tr>\n",
              "      <th>0</th>\n",
              "      <td>03caa2c082116e1d31e67e9ae3700499</td>\n",
              "      <td>1</td>\n",
              "      <td>credit_card</td>\n",
              "      <td>1</td>\n",
              "      <td>13664.08</td>\n",
              "    </tr>\n",
              "    <tr>\n",
              "      <th>1</th>\n",
              "      <td>0812eb902a67711a1cb742b3cdaa65ae</td>\n",
              "      <td>1</td>\n",
              "      <td>credit_card</td>\n",
              "      <td>8</td>\n",
              "      <td>6929.31</td>\n",
              "    </tr>\n",
              "    <tr>\n",
              "      <th>2</th>\n",
              "      <td>a96610ab360d42a2e5335a3998b4718a</td>\n",
              "      <td>1</td>\n",
              "      <td>credit_card</td>\n",
              "      <td>10</td>\n",
              "      <td>4950.34</td>\n",
              "    </tr>\n",
              "    <tr>\n",
              "      <th>3</th>\n",
              "      <td>b4c4b76c642808cbe472a32b86cddc95</td>\n",
              "      <td>1</td>\n",
              "      <td>credit_card</td>\n",
              "      <td>5</td>\n",
              "      <td>4809.44</td>\n",
              "    </tr>\n",
              "    <tr>\n",
              "      <th>4</th>\n",
              "      <td>199af31afc78c699f0dbf71fb178d4d4</td>\n",
              "      <td>1</td>\n",
              "      <td>credit_card</td>\n",
              "      <td>8</td>\n",
              "      <td>4764.34</td>\n",
              "    </tr>\n",
              "  </tbody>\n",
              "</table>\n",
              "</div>"
            ],
            "text/plain": [
              "                           order_id  ...  payment_value\n",
              "0  03caa2c082116e1d31e67e9ae3700499  ...       13664.08\n",
              "1  0812eb902a67711a1cb742b3cdaa65ae  ...        6929.31\n",
              "2  a96610ab360d42a2e5335a3998b4718a  ...        4950.34\n",
              "3  b4c4b76c642808cbe472a32b86cddc95  ...        4809.44\n",
              "4  199af31afc78c699f0dbf71fb178d4d4  ...        4764.34\n",
              "\n",
              "[5 rows x 5 columns]"
            ]
          },
          "metadata": {},
          "execution_count": 24
        }
      ]
    },
    {
      "cell_type": "markdown",
      "metadata": {
        "id": "oNGKVArwqcaJ"
      },
      "source": [
        "### 9 - Selecione as cidades e os estados responsáveis pelos 10 valores mais altos da 'olist_order_payments_dataset'. Se quiser, mostre também os valores transacionados."
      ]
    },
    {
      "cell_type": "code",
      "metadata": {
        "scrolled": true,
        "id": "TGDQGxLZqcaJ",
        "colab": {
          "base_uri": "https://localhost:8080/",
          "height": 298
        },
        "outputId": "88300e4e-21ee-4f02-de53-a689dee1582c"
      },
      "source": [
        "consulta('''\n",
        "         SELECT \n",
        "         c.customer_city as cidade,\n",
        "         c.customer_state as estado,\n",
        "         p.payment_value as valor\n",
        "         FROM olist_order_payments_dataset p\n",
        "         INNER JOIN olist_orders_dataset o ON p.order_id = o.order_id\n",
        "         INNER JOIN olist_customers_dataset c ON o.customer_id = c.customer_id\n",
        "         ORDER BY p.payment_value DESC\n",
        "         LIMIT 10\n",
        "         ''')"
      ],
      "execution_count": 25,
      "outputs": [
        {
          "output_type": "execute_result",
          "data": {
            "text/html": [
              "<div>\n",
              "<style scoped>\n",
              "    .dataframe tbody tr th:only-of-type {\n",
              "        vertical-align: middle;\n",
              "    }\n",
              "\n",
              "    .dataframe tbody tr th {\n",
              "        vertical-align: top;\n",
              "    }\n",
              "\n",
              "    .dataframe thead th {\n",
              "        text-align: right;\n",
              "    }\n",
              "</style>\n",
              "<table border=\"1\" class=\"dataframe\">\n",
              "  <thead>\n",
              "    <tr style=\"text-align: right;\">\n",
              "      <th></th>\n",
              "      <th>cidade</th>\n",
              "      <th>estado</th>\n",
              "      <th>valor</th>\n",
              "    </tr>\n",
              "  </thead>\n",
              "  <tbody>\n",
              "    <tr>\n",
              "      <th>0</th>\n",
              "      <td>rio de janeiro</td>\n",
              "      <td>RJ</td>\n",
              "      <td>13664.08</td>\n",
              "    </tr>\n",
              "    <tr>\n",
              "      <th>1</th>\n",
              "      <td>vila velha</td>\n",
              "      <td>ES</td>\n",
              "      <td>7274.88</td>\n",
              "    </tr>\n",
              "    <tr>\n",
              "      <th>2</th>\n",
              "      <td>campo grande</td>\n",
              "      <td>MS</td>\n",
              "      <td>6929.31</td>\n",
              "    </tr>\n",
              "    <tr>\n",
              "      <th>...</th>\n",
              "      <td>...</td>\n",
              "      <td>...</td>\n",
              "      <td>...</td>\n",
              "    </tr>\n",
              "    <tr>\n",
              "      <th>7</th>\n",
              "      <td>goiania</td>\n",
              "      <td>GO</td>\n",
              "      <td>4809.44</td>\n",
              "    </tr>\n",
              "    <tr>\n",
              "      <th>8</th>\n",
              "      <td>maua</td>\n",
              "      <td>SP</td>\n",
              "      <td>4764.34</td>\n",
              "    </tr>\n",
              "    <tr>\n",
              "      <th>9</th>\n",
              "      <td>joao pessoa</td>\n",
              "      <td>PB</td>\n",
              "      <td>4681.78</td>\n",
              "    </tr>\n",
              "  </tbody>\n",
              "</table>\n",
              "<p>10 rows × 3 columns</p>\n",
              "</div>"
            ],
            "text/plain": [
              "            cidade estado     valor\n",
              "0   rio de janeiro     RJ  13664.08\n",
              "1       vila velha     ES   7274.88\n",
              "2     campo grande     MS   6929.31\n",
              "..             ...    ...       ...\n",
              "7          goiania     GO   4809.44\n",
              "8             maua     SP   4764.34\n",
              "9      joao pessoa     PB   4681.78\n",
              "\n",
              "[10 rows x 3 columns]"
            ]
          },
          "metadata": {},
          "execution_count": 25
        }
      ]
    },
    {
      "cell_type": "markdown",
      "metadata": {
        "id": "ZR--1jeoqcaJ"
      },
      "source": [
        "### 10  - Faça um agrupamento que mostre os estados que mais gastaram de acordo com a presente base de dados e disponha-os na tela em ordem decrescente de acordo com seus gastos."
      ]
    },
    {
      "cell_type": "code",
      "metadata": {
        "id": "MhRos-M8qcaJ",
        "colab": {
          "base_uri": "https://localhost:8080/",
          "height": 298
        },
        "outputId": "c07ea5b1-b982-4a6a-8151-3ed28463c97e"
      },
      "source": [
        "consulta('''\n",
        "         SELECT \n",
        "         c.customer_state as estado,\n",
        "         sum(p.payment_value) as valor_total\n",
        "         FROM olist_order_payments_dataset p\n",
        "         INNER JOIN olist_orders_dataset o ON p.order_id = o.order_id\n",
        "         INNER JOIN olist_customers_dataset c ON o.customer_id = c.customer_id\n",
        "         GROUP BY 1\n",
        "         ORDER BY 2 DESC\n",
        "         ''')"
      ],
      "execution_count": 26,
      "outputs": [
        {
          "output_type": "execute_result",
          "data": {
            "text/html": [
              "<div>\n",
              "<style scoped>\n",
              "    .dataframe tbody tr th:only-of-type {\n",
              "        vertical-align: middle;\n",
              "    }\n",
              "\n",
              "    .dataframe tbody tr th {\n",
              "        vertical-align: top;\n",
              "    }\n",
              "\n",
              "    .dataframe thead th {\n",
              "        text-align: right;\n",
              "    }\n",
              "</style>\n",
              "<table border=\"1\" class=\"dataframe\">\n",
              "  <thead>\n",
              "    <tr style=\"text-align: right;\">\n",
              "      <th></th>\n",
              "      <th>estado</th>\n",
              "      <th>valor_total</th>\n",
              "    </tr>\n",
              "  </thead>\n",
              "  <tbody>\n",
              "    <tr>\n",
              "      <th>0</th>\n",
              "      <td>SP</td>\n",
              "      <td>5998226.96</td>\n",
              "    </tr>\n",
              "    <tr>\n",
              "      <th>1</th>\n",
              "      <td>RJ</td>\n",
              "      <td>2144379.69</td>\n",
              "    </tr>\n",
              "    <tr>\n",
              "      <th>2</th>\n",
              "      <td>MG</td>\n",
              "      <td>1872257.26</td>\n",
              "    </tr>\n",
              "    <tr>\n",
              "      <th>...</th>\n",
              "      <td>...</td>\n",
              "      <td>...</td>\n",
              "    </tr>\n",
              "    <tr>\n",
              "      <th>24</th>\n",
              "      <td>AC</td>\n",
              "      <td>19680.62</td>\n",
              "    </tr>\n",
              "    <tr>\n",
              "      <th>25</th>\n",
              "      <td>AP</td>\n",
              "      <td>16262.80</td>\n",
              "    </tr>\n",
              "    <tr>\n",
              "      <th>26</th>\n",
              "      <td>RR</td>\n",
              "      <td>10064.62</td>\n",
              "    </tr>\n",
              "  </tbody>\n",
              "</table>\n",
              "<p>27 rows × 2 columns</p>\n",
              "</div>"
            ],
            "text/plain": [
              "   estado  valor_total\n",
              "0      SP   5998226.96\n",
              "1      RJ   2144379.69\n",
              "2      MG   1872257.26\n",
              "..    ...          ...\n",
              "24     AC     19680.62\n",
              "25     AP     16262.80\n",
              "26     RR     10064.62\n",
              "\n",
              "[27 rows x 2 columns]"
            ]
          },
          "metadata": {},
          "execution_count": 26
        }
      ]
    }
  ]
}